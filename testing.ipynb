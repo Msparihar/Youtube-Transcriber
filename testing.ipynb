{
 "cells": [
  {
   "cell_type": "code",
   "execution_count": null,
   "metadata": {},
   "outputs": [],
   "source": [
    "import pickle\n",
    "import pafy\n",
    "import os\n",
    "import subprocess\n",
    "from pydub import AudioSegment \n",
    "from pydub.utils import make_chunks "
   ]
  },
  {
   "cell_type": "code",
   "execution_count": null,
   "metadata": {},
   "outputs": [],
   "source": [
    "pip install pytube"
   ]
  },
  {
   "cell_type": "code",
   "execution_count": null,
   "metadata": {},
   "outputs": [],
   "source": [
    "pip install pytube\n",
    "pip install git+https://github.com/pytube/pytube"
   ]
  },
  {
   "cell_type": "code",
   "execution_count": null,
   "metadata": {},
   "outputs": [],
   "source": [
    "from pytube import YouTube\n",
    "\n",
    "url = \"https://www.youtube.com/watch?v=46TJoztp75I\"\n",
    "\n",
    "YouTube(url).streams.first().download()\n",
    "yt = YouTube(url)\n",
    "yt.streams.filter(file_extension='3gpp').first().download()"
   ]
  },
  {
   "cell_type": "code",
   "execution_count": null,
   "metadata": {},
   "outputs": [],
   "source": [
    "import moviepy.editor as mp\n",
    "\n",
    "clip = mp.VideoFileClip(r\"./Messi or Maradona We asked Argentina fans.3gpp\")\n",
    "\n",
    "clip.audio.write_audiofile(r\"./audio.mp3\")"
   ]
  },
  {
   "cell_type": "code",
   "execution_count": null,
   "metadata": {},
   "outputs": [],
   "source": [
    "import os\n",
    "import pydub\n",
    "import glob\n",
    "\n",
    "all_files = [mkv_files,webm_files,wav_files,m4a_files,flac_files,mp4_files]\n",
    "\n",
    "for files in all_files:\n",
    "    for file in files:\n",
    "        mp3_file = os.path.splitext(file)[0] + '.mp3'\n",
    "        sound = pydub.AudioSegment.from_file(file)\n",
    "        print(\"Converting: \",file)\n",
    "        sound.export(mp3_file, format=\"mp3\")\n",
    "        os.remove(file)\n",
    "        print(\"Conversion Complete\")"
   ]
  },
  {
   "cell_type": "code",
   "execution_count": null,
   "metadata": {},
   "outputs": [],
   "source": [
    "url = \"https://www.youtube.com/watch?v=46TJoztp75I\"\n",
    "video = pafy.new(url)\n",
    "audiostreams = video.audiostreams\n",
    "for a in audiostreams:\n",
    "    if(a.extension == \"m4a\"):\n",
    "        a.download()"
   ]
  },
  {
   "cell_type": "code",
   "execution_count": null,
   "metadata": {},
   "outputs": [],
   "source": [
    "loc = os.listdir(\"./\")\n",
    "for i in os.listdir(\"./\"):\n",
    "    if i.endswith('.webm'):\n",
    "        fname = i\n",
    "        CurrentFileName = i\n",
    "        FinalFileName = 'audio.mp3'\n",
    "        subprocess.call(['ffmpeg', '-i', f'{CurrentFileName}', f'{FinalFileName}'])\n",
    "        os.remove(\"./\"+i)\n",
    "\n",
    "    \n"
   ]
  },
  {
   "cell_type": "code",
   "execution_count": null,
   "metadata": {},
   "outputs": [],
   "source": [
    "for i in os.listdir(\"./\"):\n",
    "    if i.endswith('.m4a'):\n",
    "        os.remove(\"./\"+i)"
   ]
  },
  {
   "cell_type": "code",
   "execution_count": null,
   "metadata": {},
   "outputs": [],
   "source": [
    "loc = os.listdir(\"./\")\n",
    "for i in loc:\n",
    "    if(i.endswith(\".m4a\")):\n",
    "        print(i)"
   ]
  },
  {
   "cell_type": "code",
   "execution_count": null,
   "metadata": {},
   "outputs": [],
   "source": [
    "myaudio = AudioSegment.from_file(\"audio.mp3\", \"mp3\") \n",
    "chunk_length_ms = 30000 # pydub calculates in millisec \n",
    "chunks = make_chunks(myaudio,chunk_length_ms) #Make chunks of one sec \n",
    "for i, chunk in enumerate(chunks): \n",
    "    chunk_name = './testing/' +\"{0}.mp3\".format(i) \n",
    "    print (\"exporting\", chunk_name) \n",
    "    chunk.export(chunk_name, format=\"mp3\")"
   ]
  },
  {
   "cell_type": "code",
   "execution_count": null,
   "metadata": {},
   "outputs": [],
   "source": [
    "audioFiles = os.listdir('testing/')\n",
    "transcript = \"\"\n",
    "model = pickle.load(open('mlmodel.pkl', 'rb'))\n",
    "for files in audioFiles:\n",
    "    audio = 'testing/'+files\n",
    "    result = model.transcribe(audio,fp16=False)\n",
    "    transcript+=result['text']\n",
    "    \n",
    "transcript"
   ]
  },
  {
   "cell_type": "code",
   "execution_count": null,
   "metadata": {},
   "outputs": [],
   "source": [
    "for i in os.listdir(\"./testing/\"):\n",
    "    print(i)\n",
    "    os.remove(\"./testing/\"+i)\n",
    "os.remove(\"./\"+\"audio.mp3\")"
   ]
  }
 ],
 "metadata": {
  "kernelspec": {
   "display_name": "Python 3",
   "language": "python",
   "name": "python3"
  },
  "language_info": {
   "codemirror_mode": {
    "name": "ipython",
    "version": 3
   },
   "file_extension": ".py",
   "mimetype": "text/x-python",
   "name": "python",
   "nbconvert_exporter": "python",
   "pygments_lexer": "ipython3",
   "version": "3.10.6"
  },
  "orig_nbformat": 4,
  "vscode": {
   "interpreter": {
    "hash": "8925120094c30cfcf52475a53e76e9e54f965c4e5eeb7d39eacd98c85315eb39"
   }
  }
 },
 "nbformat": 4,
 "nbformat_minor": 2
}
